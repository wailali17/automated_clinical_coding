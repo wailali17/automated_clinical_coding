{
 "cells": [
  {
   "cell_type": "code",
   "execution_count": 2,
   "metadata": {},
   "outputs": [],
   "source": [
    "import pandas as pd\n",
    "import os\n",
    "import json\n",
    "\n",
    "pd.set_option('display.max_columns', None)\n"
   ]
  },
  {
   "cell_type": "code",
   "execution_count": 3,
   "metadata": {},
   "outputs": [
    {
     "data": {
      "text/html": [
       "<div>\n",
       "<style scoped>\n",
       "    .dataframe tbody tr th:only-of-type {\n",
       "        vertical-align: middle;\n",
       "    }\n",
       "\n",
       "    .dataframe tbody tr th {\n",
       "        vertical-align: top;\n",
       "    }\n",
       "\n",
       "    .dataframe thead th {\n",
       "        text-align: right;\n",
       "    }\n",
       "</style>\n",
       "<table border=\"1\" class=\"dataframe\">\n",
       "  <thead>\n",
       "    <tr style=\"text-align: right;\">\n",
       "      <th></th>\n",
       "      <th>accuracy</th>\n",
       "      <th>auc_score_weighted</th>\n",
       "      <th>macroavg_precision</th>\n",
       "      <th>macroavg_recall</th>\n",
       "      <th>macroavg_f1score</th>\n",
       "      <th>weightedavg_precision</th>\n",
       "      <th>weightedavg_recall</th>\n",
       "      <th>weightedavg_f1score</th>\n",
       "    </tr>\n",
       "  </thead>\n",
       "  <tbody>\n",
       "    <tr>\n",
       "      <th>baseline_model</th>\n",
       "      <td>0.4348</td>\n",
       "      <td>0.744055</td>\n",
       "      <td>0.429666</td>\n",
       "      <td>0.434390</td>\n",
       "      <td>0.430376</td>\n",
       "      <td>0.430548</td>\n",
       "      <td>0.4348</td>\n",
       "      <td>0.430999</td>\n",
       "    </tr>\n",
       "    <tr>\n",
       "      <th>baseline_model_pca</th>\n",
       "      <td>0.3828</td>\n",
       "      <td>0.692056</td>\n",
       "      <td>0.379208</td>\n",
       "      <td>0.382563</td>\n",
       "      <td>0.380154</td>\n",
       "      <td>0.379811</td>\n",
       "      <td>0.3828</td>\n",
       "      <td>0.380562</td>\n",
       "    </tr>\n",
       "    <tr>\n",
       "      <th>b2_openai_vectorised_model</th>\n",
       "      <td>0.3988</td>\n",
       "      <td>0.709237</td>\n",
       "      <td>0.397547</td>\n",
       "      <td>0.398584</td>\n",
       "      <td>0.396913</td>\n",
       "      <td>0.397974</td>\n",
       "      <td>0.3988</td>\n",
       "      <td>0.397211</td>\n",
       "    </tr>\n",
       "    <tr>\n",
       "      <th>llm_model</th>\n",
       "      <td>0.3328</td>\n",
       "      <td>NaN</td>\n",
       "      <td>0.337158</td>\n",
       "      <td>0.332800</td>\n",
       "      <td>0.306469</td>\n",
       "      <td>0.337158</td>\n",
       "      <td>0.3328</td>\n",
       "      <td>0.306469</td>\n",
       "    </tr>\n",
       "  </tbody>\n",
       "</table>\n",
       "</div>"
      ],
      "text/plain": [
       "                            accuracy  auc_score_weighted  macroavg_precision  \\\n",
       "baseline_model                0.4348            0.744055            0.429666   \n",
       "baseline_model_pca            0.3828            0.692056            0.379208   \n",
       "b2_openai_vectorised_model    0.3988            0.709237            0.397547   \n",
       "llm_model                     0.3328                 NaN            0.337158   \n",
       "\n",
       "                            macroavg_recall  macroavg_f1score  \\\n",
       "baseline_model                     0.434390          0.430376   \n",
       "baseline_model_pca                 0.382563          0.380154   \n",
       "b2_openai_vectorised_model         0.398584          0.396913   \n",
       "llm_model                          0.332800          0.306469   \n",
       "\n",
       "                            weightedavg_precision  weightedavg_recall  \\\n",
       "baseline_model                           0.430548              0.4348   \n",
       "baseline_model_pca                       0.379811              0.3828   \n",
       "b2_openai_vectorised_model               0.397974              0.3988   \n",
       "llm_model                                0.337158              0.3328   \n",
       "\n",
       "                            weightedavg_f1score  \n",
       "baseline_model                         0.430999  \n",
       "baseline_model_pca                     0.380562  \n",
       "b2_openai_vectorised_model             0.397211  \n",
       "llm_model                              0.306469  "
      ]
     },
     "execution_count": 3,
     "metadata": {},
     "output_type": "execute_result"
    }
   ],
   "source": [
    "output_df= pd.read_pickle(f\"data/altered_data/all_models_prediction_output.pkl\")\n",
    "eval_df = pd.read_pickle(\"data/eval/evaluation_metrics.pkl\")\n",
    "with open(f\"data/definitions/icd_code_mapping.json\", \"r\") as file:\n",
    "    icd_code_mapping = json.load(file)\n",
    "eval_df[[\"accuracy\", \"auc_score_weighted\", \"macroavg_precision\", \"macroavg_recall\",\t\"macroavg_f1score\",\t\"weightedavg_precision\", \"weightedavg_recall\",\t\"weightedavg_f1score\"]]\n"
   ]
  },
  {
   "cell_type": "code",
   "execution_count": 15,
   "metadata": {},
   "outputs": [
    {
     "data": {
      "text/plain": [
       "{'D509': 0, 'E669': 1, 'I110': 2, 'N390': 3, 'Z87891': 4}"
      ]
     },
     "execution_count": 15,
     "metadata": {},
     "output_type": "execute_result"
    }
   ],
   "source": [
    "icd_code_mapping"
   ]
  },
  {
   "cell_type": "code",
   "execution_count": 39,
   "metadata": {},
   "outputs": [],
   "source": [
    "pd.set_option('display.max_colwidth', None)"
   ]
  },
  {
   "cell_type": "code",
   "execution_count": 40,
   "metadata": {},
   "outputs": [
    {
     "data": {
      "text/html": [
       "<div>\n",
       "<style scoped>\n",
       "    .dataframe tbody tr th:only-of-type {\n",
       "        vertical-align: middle;\n",
       "    }\n",
       "\n",
       "    .dataframe tbody tr th {\n",
       "        vertical-align: top;\n",
       "    }\n",
       "\n",
       "    .dataframe thead th {\n",
       "        text-align: right;\n",
       "    }\n",
       "</style>\n",
       "<table border=\"1\" class=\"dataframe\">\n",
       "  <thead>\n",
       "    <tr style=\"text-align: right;\">\n",
       "      <th></th>\n",
       "      <th>index</th>\n",
       "      <th>subject_id</th>\n",
       "      <th>hadm_id</th>\n",
       "      <th>icd_code_encoded</th>\n",
       "      <th>b1_model_preds</th>\n",
       "      <th>b2_model_preds</th>\n",
       "      <th>openai_vec_preds</th>\n",
       "      <th>llm_predicted_icd</th>\n",
       "      <th>llm_predictive_reasoning</th>\n",
       "      <th>llm_predicted_icd_code_encoded</th>\n",
       "    </tr>\n",
       "  </thead>\n",
       "  <tbody>\n",
       "    <tr>\n",
       "      <th>7251</th>\n",
       "      <td>7251</td>\n",
       "      <td>13407761.0</td>\n",
       "      <td>29114923.0</td>\n",
       "      <td>2</td>\n",
       "      <td>2</td>\n",
       "      <td>3</td>\n",
       "      <td>2</td>\n",
       "      <td>[I110]</td>\n",
       "      <td>[The patient is 75 years old and has been prescribed medications commonly associated with hypertensive heart disease, such as Metoprolol and Losartan. The admission details suggest a potential heart condition.]</td>\n",
       "      <td>2</td>\n",
       "    </tr>\n",
       "    <tr>\n",
       "      <th>11405</th>\n",
       "      <td>11405</td>\n",
       "      <td>12298456.0</td>\n",
       "      <td>20908306.0</td>\n",
       "      <td>4</td>\n",
       "      <td>4</td>\n",
       "      <td>0</td>\n",
       "      <td>0</td>\n",
       "      <td>[Z87891]</td>\n",
       "      <td>[The patient has a personal history of nicotine dependence, which is relevant to their health status.]</td>\n",
       "      <td>4</td>\n",
       "    </tr>\n",
       "    <tr>\n",
       "      <th>10756</th>\n",
       "      <td>10756</td>\n",
       "      <td>15837552.0</td>\n",
       "      <td>21479793.0</td>\n",
       "      <td>4</td>\n",
       "      <td>0</td>\n",
       "      <td>3</td>\n",
       "      <td>0</td>\n",
       "      <td>[Z87891]</td>\n",
       "      <td>[Patient has a personal history of nicotine dependence, which is relevant to their health status.]</td>\n",
       "      <td>4</td>\n",
       "    </tr>\n",
       "    <tr>\n",
       "      <th>8632</th>\n",
       "      <td>8632</td>\n",
       "      <td>11494099.0</td>\n",
       "      <td>29797245.0</td>\n",
       "      <td>3</td>\n",
       "      <td>3</td>\n",
       "      <td>1</td>\n",
       "      <td>3</td>\n",
       "      <td>[N390]</td>\n",
       "      <td>[The patient was administered Nitrofurantoin Monohyd (MacroBID), which is commonly used to treat urinary tract infections, indicating a likely diagnosis of urinary tract infection.]</td>\n",
       "      <td>3</td>\n",
       "    </tr>\n",
       "    <tr>\n",
       "      <th>6682</th>\n",
       "      <td>6682</td>\n",
       "      <td>16020425.0</td>\n",
       "      <td>26973298.0</td>\n",
       "      <td>2</td>\n",
       "      <td>3</td>\n",
       "      <td>2</td>\n",
       "      <td>2</td>\n",
       "      <td>[I110]</td>\n",
       "      <td>[The patient is 71 years old and has been admitted with a DRG type indicating a significant cardiovascular condition, which aligns with hypertensive heart disease with heart failure.]</td>\n",
       "      <td>2</td>\n",
       "    </tr>\n",
       "  </tbody>\n",
       "</table>\n",
       "</div>"
      ],
      "text/plain": [
       "       index  subject_id     hadm_id  icd_code_encoded  b1_model_preds  \\\n",
       "7251    7251  13407761.0  29114923.0                 2               2   \n",
       "11405  11405  12298456.0  20908306.0                 4               4   \n",
       "10756  10756  15837552.0  21479793.0                 4               0   \n",
       "8632    8632  11494099.0  29797245.0                 3               3   \n",
       "6682    6682  16020425.0  26973298.0                 2               3   \n",
       "\n",
       "       b2_model_preds  openai_vec_preds llm_predicted_icd  \\\n",
       "7251                3                 2            [I110]   \n",
       "11405               0                 0          [Z87891]   \n",
       "10756               3                 0          [Z87891]   \n",
       "8632                1                 3            [N390]   \n",
       "6682                2                 2            [I110]   \n",
       "\n",
       "                                                                                                                                                                                                 llm_predictive_reasoning  \\\n",
       "7251   [The patient is 75 years old and has been prescribed medications commonly associated with hypertensive heart disease, such as Metoprolol and Losartan. The admission details suggest a potential heart condition.]   \n",
       "11405                                                                                                              [The patient has a personal history of nicotine dependence, which is relevant to their health status.]   \n",
       "10756                                                                                                                  [Patient has a personal history of nicotine dependence, which is relevant to their health status.]   \n",
       "8632                                [The patient was administered Nitrofurantoin Monohyd (MacroBID), which is commonly used to treat urinary tract infections, indicating a likely diagnosis of urinary tract infection.]   \n",
       "6682                              [The patient is 71 years old and has been admitted with a DRG type indicating a significant cardiovascular condition, which aligns with hypertensive heart disease with heart failure.]   \n",
       "\n",
       "       llm_predicted_icd_code_encoded  \n",
       "7251                                2  \n",
       "11405                               4  \n",
       "10756                               4  \n",
       "8632                                3  \n",
       "6682                                2  "
      ]
     },
     "execution_count": 40,
     "metadata": {},
     "output_type": "execute_result"
    }
   ],
   "source": [
    "output_df[\n",
    "    (output_df[\"llm_predicted_icd_code_encoded\"] == output_df[\"icd_code_encoded\"])\n",
    "    & (\n",
    "        (output_df[\"b1_model_preds\"] != output_df[\"icd_code_encoded\"])\n",
    "        | (output_df[\"b2_model_preds\"] != output_df[\"icd_code_encoded\"])\n",
    "        | (output_df[\"openai_vec_preds\"] != output_df[\"icd_code_encoded\"])\n",
    "\n",
    "        )\n",
    "    ].sample(5)\n",
    "# .sample(1)\n",
    "# .iloc[10603,]"
   ]
  },
  {
   "cell_type": "code",
   "execution_count": 55,
   "metadata": {},
   "outputs": [
    {
     "data": {
      "text/plain": [
       "<module 'code_utils.utils' from 'c:\\\\Users\\\\waila\\\\OneDrive\\\\MSc Data Science\\\\Research Project\\\\automated_clinical_coding\\\\code_utils\\\\utils.py'>"
      ]
     },
     "execution_count": 55,
     "metadata": {},
     "output_type": "execute_result"
    }
   ],
   "source": [
    "from importlib import reload\n",
    "reload(utils)"
   ]
  },
  {
   "cell_type": "code",
   "execution_count": 60,
   "metadata": {},
   "outputs": [
    {
     "data": {
      "image/png": "[encoded data removed]",
      "text/plain": [
       "<Figure size 640x480 with 2 Axes>"
      ]
     },
     "metadata": {},
     "output_type": "display_data"
    }
   ],
   "source": [
    "import os \n",
    "from code_utils import utils\n",
    "proj_path = os.getcwd().replace(\"\\\\\", \"/\") \n",
    "# metrics_df = pd.DataFrame()\n",
    "\n",
    "# met_df1 = utils.evaluation_metrics(project_dir=proj_path, y_true=output_df[\"icd_code_encoded\"], y_pred=output_df[\"b1_model_preds\"], model_type=\"Baseline Model\", icd_code_mapping=icd_code_mapping, auc_score=None, clf=None)\n",
    "# met_df2 = utils.evaluation_metrics(project_dir=proj_path, y_true=output_df[\"icd_code_encoded\"], y_pred=output_df[\"b2_model_preds\"], model_type=\"Baseline PCA Model\", icd_code_mapping=icd_code_mapping, auc_score=None, clf=None)\n",
    "# met_df3 = utils.evaluation_metrics(project_dir=proj_path, y_true=output_df[\"icd_code_encoded\"], y_pred=output_df[\"openai_vec_preds\"], model_type=\"OpenAI Vectoriser Model\", icd_code_mapping=icd_code_mapping, auc_score=None, clf=None)\n",
    "output_sampled = output_df.sample(2500)\n",
    "met_df4 = utils.evaluation_metrics(project_dir=proj_path, y_true=output_sampled[\"icd_code_encoded\"], y_pred=output_sampled[\"llm_predicted_icd_code_encoded\"], model_type=\"LLM Model\", icd_code_mapping=icd_code_mapping, auc_score=None, clf=None)\n",
    "\n",
    "# metrics_df = pd.concat([metrics_df, met_df1, met_df2, met_df3, met_df4])"
   ]
  },
  {
   "cell_type": "code",
   "execution_count": 61,
   "metadata": {},
   "outputs": [
    {
     "data": {
      "text/html": [
       "<div>\n",
       "<style scoped>\n",
       "    .dataframe tbody tr th:only-of-type {\n",
       "        vertical-align: middle;\n",
       "    }\n",
       "\n",
       "    .dataframe tbody tr th {\n",
       "        vertical-align: top;\n",
       "    }\n",
       "\n",
       "    .dataframe thead th {\n",
       "        text-align: right;\n",
       "    }\n",
       "</style>\n",
       "<table border=\"1\" class=\"dataframe\">\n",
       "  <thead>\n",
       "    <tr style=\"text-align: right;\">\n",
       "      <th></th>\n",
       "      <th>accuracy</th>\n",
       "      <th>auc_score_weighted</th>\n",
       "      <th>confusion_matrix</th>\n",
       "      <th>macroavg_precision</th>\n",
       "      <th>macroavg_recall</th>\n",
       "      <th>macroavg_f1score</th>\n",
       "      <th>weightedavg_precision</th>\n",
       "      <th>weightedavg_recall</th>\n",
       "      <th>weightedavg_f1score</th>\n",
       "      <th>feature_importances</th>\n",
       "    </tr>\n",
       "  </thead>\n",
       "  <tbody>\n",
       "    <tr>\n",
       "      <th>LLM Model</th>\n",
       "      <td>0.3272</td>\n",
       "      <td>None</td>\n",
       "      <td>[[110, 25, 114, 84, 172], [30, 28, 151, 69, 23...</td>\n",
       "      <td>0.338386</td>\n",
       "      <td>0.329813</td>\n",
       "      <td>0.305814</td>\n",
       "      <td>0.338594</td>\n",
       "      <td>0.3272</td>\n",
       "      <td>0.304314</td>\n",
       "      <td></td>\n",
       "    </tr>\n",
       "  </tbody>\n",
       "</table>\n",
       "</div>"
      ],
      "text/plain": [
       "           accuracy auc_score_weighted  \\\n",
       "LLM Model    0.3272               None   \n",
       "\n",
       "                                            confusion_matrix  \\\n",
       "LLM Model  [[110, 25, 114, 84, 172], [30, 28, 151, 69, 23...   \n",
       "\n",
       "           macroavg_precision  macroavg_recall  macroavg_f1score  \\\n",
       "LLM Model            0.338386         0.329813          0.305814   \n",
       "\n",
       "           weightedavg_precision  weightedavg_recall  weightedavg_f1score  \\\n",
       "LLM Model               0.338594              0.3272             0.304314   \n",
       "\n",
       "          feature_importances  \n",
       "LLM Model                      "
      ]
     },
     "execution_count": 61,
     "metadata": {},
     "output_type": "execute_result"
    }
   ],
   "source": [
    "met_df4"
   ]
  },
  {
   "cell_type": "code",
   "execution_count": 59,
   "metadata": {},
   "outputs": [
    {
     "data": {
      "text/html": [
       "<div>\n",
       "<style scoped>\n",
       "    .dataframe tbody tr th:only-of-type {\n",
       "        vertical-align: middle;\n",
       "    }\n",
       "\n",
       "    .dataframe tbody tr th {\n",
       "        vertical-align: top;\n",
       "    }\n",
       "\n",
       "    .dataframe thead th {\n",
       "        text-align: right;\n",
       "    }\n",
       "</style>\n",
       "<table border=\"1\" class=\"dataframe\">\n",
       "  <thead>\n",
       "    <tr style=\"text-align: right;\">\n",
       "      <th></th>\n",
       "      <th>accuracy</th>\n",
       "      <th>auc_score_weighted</th>\n",
       "      <th>macroavg_precision</th>\n",
       "      <th>macroavg_recall</th>\n",
       "      <th>macroavg_f1score</th>\n",
       "      <th>weightedavg_precision</th>\n",
       "      <th>weightedavg_recall</th>\n",
       "      <th>weightedavg_f1score</th>\n",
       "    </tr>\n",
       "  </thead>\n",
       "  <tbody>\n",
       "    <tr>\n",
       "      <th>Baseline Model</th>\n",
       "      <td>0.85208</td>\n",
       "      <td>None</td>\n",
       "      <td>0.852274</td>\n",
       "      <td>0.85208</td>\n",
       "      <td>0.851849</td>\n",
       "      <td>0.852274</td>\n",
       "      <td>0.85208</td>\n",
       "      <td>0.851849</td>\n",
       "    </tr>\n",
       "    <tr>\n",
       "      <th>Baseline PCA Model</th>\n",
       "      <td>0.84992</td>\n",
       "      <td>None</td>\n",
       "      <td>0.849917</td>\n",
       "      <td>0.84992</td>\n",
       "      <td>0.849814</td>\n",
       "      <td>0.849917</td>\n",
       "      <td>0.84992</td>\n",
       "      <td>0.849814</td>\n",
       "    </tr>\n",
       "    <tr>\n",
       "      <th>OpenAI Vectoriser Model</th>\n",
       "      <td>0.86144</td>\n",
       "      <td>None</td>\n",
       "      <td>0.861549</td>\n",
       "      <td>0.86144</td>\n",
       "      <td>0.861370</td>\n",
       "      <td>0.861549</td>\n",
       "      <td>0.86144</td>\n",
       "      <td>0.861370</td>\n",
       "    </tr>\n",
       "    <tr>\n",
       "      <th>LLM Model</th>\n",
       "      <td>0.33280</td>\n",
       "      <td>None</td>\n",
       "      <td>0.337158</td>\n",
       "      <td>0.33280</td>\n",
       "      <td>0.306469</td>\n",
       "      <td>0.337158</td>\n",
       "      <td>0.33280</td>\n",
       "      <td>0.306469</td>\n",
       "    </tr>\n",
       "  </tbody>\n",
       "</table>\n",
       "</div>"
      ],
      "text/plain": [
       "                         accuracy auc_score_weighted  macroavg_precision  \\\n",
       "Baseline Model            0.85208               None            0.852274   \n",
       "Baseline PCA Model        0.84992               None            0.849917   \n",
       "OpenAI Vectoriser Model   0.86144               None            0.861549   \n",
       "LLM Model                 0.33280               None            0.337158   \n",
       "\n",
       "                         macroavg_recall  macroavg_f1score  \\\n",
       "Baseline Model                   0.85208          0.851849   \n",
       "Baseline PCA Model               0.84992          0.849814   \n",
       "OpenAI Vectoriser Model          0.86144          0.861370   \n",
       "LLM Model                        0.33280          0.306469   \n",
       "\n",
       "                         weightedavg_precision  weightedavg_recall  \\\n",
       "Baseline Model                        0.852274             0.85208   \n",
       "Baseline PCA Model                    0.849917             0.84992   \n",
       "OpenAI Vectoriser Model               0.861549             0.86144   \n",
       "LLM Model                             0.337158             0.33280   \n",
       "\n",
       "                         weightedavg_f1score  \n",
       "Baseline Model                      0.851849  \n",
       "Baseline PCA Model                  0.849814  \n",
       "OpenAI Vectoriser Model             0.861370  \n",
       "LLM Model                           0.306469  "
      ]
     },
     "execution_count": 59,
     "metadata": {},
     "output_type": "execute_result"
    }
   ],
   "source": [
    "metrics_df[[\"accuracy\", \"auc_score_weighted\", \"macroavg_precision\", \"macroavg_recall\",\t\"macroavg_f1score\",\t\"weightedavg_precision\", \"weightedavg_recall\",\t\"weightedavg_f1score\"]]"
   ]
  },
  {
   "cell_type": "code",
   "execution_count": null,
   "metadata": {},
   "outputs": [
    {
     "name": "stdout",
     "output_type": "stream",
     "text": [
      "(12511, 35)\n"
     ]
    }
   ],
   "source": [
    "orig_df = pd.read_pickle(\"data/altered_data/input_data.pkl\")\n",
    "orig_df[\"icd_code_encoded\"] = orig_df[\"icd_code\"].map(icd_code_mapping)\n",
    "\n",
    "prepped_df = pd.read_pickle(\"data/altered_data/prepared_data.pkl\").reset_index()\n",
    "df = (prepped_df[[\n",
    "    'subject_id', 'hadm_id','is_male', 'icd_code_encoded'\n",
    "]]\n",
    "    .merge(orig_df, on=[\"subject_id\", \"hadm_id\", \"icd_code_encoded\"], how=\"left\")\n",
    "    .merge(\n",
    "        output_df.reset_index().drop([\"level_0\", \"index\"], axis=1)\n",
    "        , on=[\"subject_id\", \"hadm_id\", \"icd_code_encoded\"], how=\"left\"\n",
    "        )\n",
    ")\n",
    "df[\"llm_predictive_reasoning\"] = df.llm_predictive_reasoning.apply(lambda x: x[0] if len(x) <= 1 else x)\n",
    "\n",
    "print(df.shape)"
   ]
  },
  {
   "cell_type": "code",
   "execution_count": 22,
   "metadata": {},
   "outputs": [
    {
     "data": {
      "text/plain": [
       "0.04187171573942781"
      ]
     },
     "execution_count": 22,
     "metadata": {},
     "output_type": "execute_result"
    }
   ],
   "source": [
    "test = df.groupby([\"subject_id\", \"hadm_id\"])[\"icd_code\"].nunique().reset_index(name=\"code_count\")\n",
    "len(test[test[\"code_count\"] > 1]) / len(test)"
   ]
  },
  {
   "cell_type": "code",
   "execution_count": 34,
   "metadata": {},
   "outputs": [],
   "source": [
    "import numpy as np\n",
    "df[\"llm_inaccurate_preds\"] = np.where(df.icd_code_encoded != df.llm_predicted_icd_code_encoded, 1, 0)\n",
    "text_cols = [\"merged_labevents_text\", \"merged_microbiology_events\", \"merged_pharmacy_events\"]\n",
    "for col in text_cols:\n",
    "    df[f\"length_{col}\"] = df[col].fillna(\"\").apply(lambda x: len(x))"
   ]
  },
  {
   "cell_type": "code",
   "execution_count": null,
   "metadata": {},
   "outputs": [
    {
     "data": {
      "text/html": [
       "<div>\n",
       "<style scoped>\n",
       "    .dataframe tbody tr th:only-of-type {\n",
       "        vertical-align: middle;\n",
       "    }\n",
       "\n",
       "    .dataframe tbody tr th {\n",
       "        vertical-align: top;\n",
       "    }\n",
       "\n",
       "    .dataframe thead th {\n",
       "        text-align: right;\n",
       "    }\n",
       "</style>\n",
       "<table border=\"1\" class=\"dataframe\">\n",
       "  <thead>\n",
       "    <tr style=\"text-align: right;\">\n",
       "      <th></th>\n",
       "      <th>count</th>\n",
       "      <th>mean</th>\n",
       "      <th>std</th>\n",
       "      <th>min</th>\n",
       "      <th>25%</th>\n",
       "      <th>50%</th>\n",
       "      <th>75%</th>\n",
       "      <th>max</th>\n",
       "    </tr>\n",
       "  </thead>\n",
       "  <tbody>\n",
       "    <tr>\n",
       "      <th>length_merged_labevents_text</th>\n",
       "      <td>4163.0</td>\n",
       "      <td>267.641605</td>\n",
       "      <td>405.311496</td>\n",
       "      <td>0.0</td>\n",
       "      <td>66.0</td>\n",
       "      <td>147.0</td>\n",
       "      <td>312.0</td>\n",
       "      <td>6076.0</td>\n",
       "    </tr>\n",
       "    <tr>\n",
       "      <th>length_merged_microbiology_events</th>\n",
       "      <td>4163.0</td>\n",
       "      <td>5.517415</td>\n",
       "      <td>12.610754</td>\n",
       "      <td>0.0</td>\n",
       "      <td>0.0</td>\n",
       "      <td>0.0</td>\n",
       "      <td>5.0</td>\n",
       "      <td>206.0</td>\n",
       "    </tr>\n",
       "    <tr>\n",
       "      <th>length_merged_pharmacy_events</th>\n",
       "      <td>4163.0</td>\n",
       "      <td>48.754984</td>\n",
       "      <td>52.819468</td>\n",
       "      <td>0.0</td>\n",
       "      <td>20.0</td>\n",
       "      <td>33.0</td>\n",
       "      <td>58.0</td>\n",
       "      <td>901.0</td>\n",
       "    </tr>\n",
       "  </tbody>\n",
       "</table>\n",
       "</div>"
      ],
      "text/plain": [
       "                                    count        mean         std  min   25%  \\\n",
       "length_merged_labevents_text       4163.0  267.641605  405.311496  0.0  66.0   \n",
       "length_merged_microbiology_events  4163.0    5.517415   12.610754  0.0   0.0   \n",
       "length_merged_pharmacy_events      4163.0   48.754984   52.819468  0.0  20.0   \n",
       "\n",
       "                                     50%    75%     max  \n",
       "length_merged_labevents_text       147.0  312.0  6076.0  \n",
       "length_merged_microbiology_events    0.0    5.0   206.0  \n",
       "length_merged_pharmacy_events       33.0   58.0   901.0  "
      ]
     },
     "execution_count": 41,
     "metadata": {},
     "output_type": "execute_result"
    }
   ],
   "source": [
    "df[df['llm_inaccurate_preds'] == 0][[\n",
    "    'length_merged_labevents_text', 'length_merged_microbiology_events', 'length_merged_pharmacy_events'\n",
    "]].describe().T\n"
   ]
  },
  {
   "cell_type": "code",
   "execution_count": 49,
   "metadata": {},
   "outputs": [
    {
     "data": {
      "text/plain": [
       "array([22919017.0, 27856517.0, 21794773.0, 22874241.0, 27748832.0,\n",
       "       24862472.0, 28012650.0, 26700729.0, 23866567.0, 28208159.0],\n",
       "      dtype=object)"
      ]
     },
     "execution_count": 49,
     "metadata": {},
     "output_type": "execute_result"
    }
   ],
   "source": [
    "df[df['llm_inaccurate_preds'] == 1].sample(10)[\"hadm_id\"].unique()"
   ]
  },
  {
   "cell_type": "code",
   "execution_count": 43,
   "metadata": {},
   "outputs": [
    {
     "data": {
      "text/html": [
       "<div>\n",
       "<style scoped>\n",
       "    .dataframe tbody tr th:only-of-type {\n",
       "        vertical-align: middle;\n",
       "    }\n",
       "\n",
       "    .dataframe tbody tr th {\n",
       "        vertical-align: top;\n",
       "    }\n",
       "\n",
       "    .dataframe thead th {\n",
       "        text-align: right;\n",
       "    }\n",
       "</style>\n",
       "<table border=\"1\" class=\"dataframe\">\n",
       "  <thead>\n",
       "    <tr style=\"text-align: right;\">\n",
       "      <th></th>\n",
       "      <th>count</th>\n",
       "      <th>mean</th>\n",
       "      <th>std</th>\n",
       "      <th>min</th>\n",
       "      <th>25%</th>\n",
       "      <th>50%</th>\n",
       "      <th>75%</th>\n",
       "      <th>max</th>\n",
       "    </tr>\n",
       "  </thead>\n",
       "  <tbody>\n",
       "    <tr>\n",
       "      <th>length_merged_labevents_text</th>\n",
       "      <td>8348.0</td>\n",
       "      <td>270.653690</td>\n",
       "      <td>490.855805</td>\n",
       "      <td>0.0</td>\n",
       "      <td>61.0</td>\n",
       "      <td>142.0</td>\n",
       "      <td>305.0</td>\n",
       "      <td>14984.0</td>\n",
       "    </tr>\n",
       "    <tr>\n",
       "      <th>length_merged_microbiology_events</th>\n",
       "      <td>8348.0</td>\n",
       "      <td>4.859487</td>\n",
       "      <td>11.996356</td>\n",
       "      <td>0.0</td>\n",
       "      <td>0.0</td>\n",
       "      <td>0.0</td>\n",
       "      <td>4.0</td>\n",
       "      <td>245.0</td>\n",
       "    </tr>\n",
       "    <tr>\n",
       "      <th>length_merged_pharmacy_events</th>\n",
       "      <td>8348.0</td>\n",
       "      <td>49.942980</td>\n",
       "      <td>54.227236</td>\n",
       "      <td>0.0</td>\n",
       "      <td>21.0</td>\n",
       "      <td>34.0</td>\n",
       "      <td>60.0</td>\n",
       "      <td>911.0</td>\n",
       "    </tr>\n",
       "  </tbody>\n",
       "</table>\n",
       "</div>"
      ],
      "text/plain": [
       "                                    count        mean         std  min   25%  \\\n",
       "length_merged_labevents_text       8348.0  270.653690  490.855805  0.0  61.0   \n",
       "length_merged_microbiology_events  8348.0    4.859487   11.996356  0.0   0.0   \n",
       "length_merged_pharmacy_events      8348.0   49.942980   54.227236  0.0  21.0   \n",
       "\n",
       "                                     50%    75%      max  \n",
       "length_merged_labevents_text       142.0  305.0  14984.0  \n",
       "length_merged_microbiology_events    0.0    4.0    245.0  \n",
       "length_merged_pharmacy_events       34.0   60.0    911.0  "
      ]
     },
     "execution_count": 43,
     "metadata": {},
     "output_type": "execute_result"
    }
   ],
   "source": [
    "df[df['llm_inaccurate_preds'] == 1][[\n",
    "    'length_merged_labevents_text', 'length_merged_microbiology_events', 'length_merged_pharmacy_events'\n",
    "]].describe().T"
   ]
  },
  {
   "cell_type": "markdown",
   "metadata": {},
   "source": []
  },
  {
   "cell_type": "code",
   "execution_count": 5,
   "metadata": {},
   "outputs": [
    {
     "data": {
      "image/png": "[encoded data removed]",
      "text/plain": [
       "<Figure size 1600x1000 with 1 Axes>"
      ]
     },
     "metadata": {},
     "output_type": "display_data"
    }
   ],
   "source": [
    "import seaborn as sns\n",
    "import matplotlib.pyplot as plt\n",
    "import pandas as pd\n",
    "\n",
    "# Extract data from evaluation metrics\n",
    "metrics_df = pd.DataFrame({\n",
    "    'Model': ['Baseline Model', 'Baseline Model PCA', 'B2 OpenAI Vectorised Model', 'LLM Model'],\n",
    "    'Accuracy': eval_df['accuracy'],\n",
    "    'Macro Avg Precision': eval_df['macroavg_precision'],\n",
    "    'Macro Avg Recall': eval_df['macroavg_recall'],\n",
    "    'Macro Avg F1-Score': eval_df['macroavg_f1score'],\n",
    "    'Weighted Avg Precision': eval_df['weightedavg_precision'],\n",
    "    'Weighted Avg Recall': eval_df['weightedavg_recall'],\n",
    "    'Weighted Avg F1-Score': eval_df['weightedavg_f1score'],\n",
    "    'AUC Score': eval_df['auc_score_weighted']\n",
    "})\n",
    "\n",
    "# Set up the figure\n",
    "plt.figure(figsize=(16, 10))\n",
    "\n",
    "# Plotting the metrics comparison\n",
    "metrics_melted = metrics_df.melt(id_vars=\"Model\", var_name=\"Metric\", value_name=\"Score\")\n",
    "\n",
    "sns.barplot(x=\"Metric\", y=\"Score\", hue=\"Model\", data=metrics_melted)\n",
    "plt.xticks(rotation=45, ha='right')\n",
    "plt.title(\"Model Performance Comparison Across Different Metrics\")\n",
    "plt.xlabel(\"Evaluation Metric\")\n",
    "plt.ylabel(\"Score\")\n",
    "plt.legend(loc='upper left', bbox_to_anchor=(1, 1), title=\"Model\")\n",
    "\n",
    "# Display the plot\n",
    "plt.tight_layout()\n",
    "plt.show()\n"
   ]
  },
  {
   "cell_type": "markdown",
   "metadata": {},
   "source": [
    "The bar chart above compares the four models' performance across various evaluation metrics:\n",
    "\n",
    "Accuracy: The Baseline Model shows the highest accuracy at 43.48%, followed closely by the B2 OpenAI Vectorised Model and Baseline Model PCA. The LLM Model has the lowest accuracy at 33.28%.\n",
    "\n",
    "Macro Average Precision, Recall, and F1-Score: These scores are highest for the Baseline Model across all metrics. The LLM Model consistently performs the lowest in these metrics, with the Baseline Model PCA and B2 OpenAI Vectorised Model showing intermediate performance.\n",
    "\n",
    "Weighted Average Precision, Recall, and F1-Score: Similar trends are observed here, where the Baseline Model leads in performance, while the LLM Model underperforms. The B2 OpenAI Vectorised Model shows slightly better performance than the Baseline Model PCA.\n",
    "\n",
    "AUC Score: This metric, not available for the LLM Model, shows the Baseline Model as the leader with 0.744, while the B2 OpenAI Vectorised Model and Baseline Model PCA trail behind with scores of 0.709 and 0.692, respectively.\n",
    "\n",
    "In summary, the Baseline Model shows the best overall performance across all metrics, while the LLM Model has lower performance, particularly in accuracy and macro/weighted average scores. The B2 OpenAI Vectorised Model and Baseline Model PCA display middle-ground performance. This analysis helps demonstrate the trade-offs in performance between various models."
   ]
  },
  {
   "cell_type": "code",
   "execution_count": null,
   "metadata": {},
   "outputs": [],
   "source": []
  }
 ],
 "metadata": {
  "kernelspec": {
   "display_name": "MSC_ENV",
   "language": "python",
   "name": "python3"
  },
  "language_info": {
   "codemirror_mode": {
    "name": "ipython",
    "version": 3
   },
   "file_extension": ".py",
   "mimetype": "text/x-python",
   "name": "python",
   "nbconvert_exporter": "python",
   "pygments_lexer": "ipython3",
   "version": "3.12.5"
  }
 },
 "nbformat": 4,
 "nbformat_minor": 2
}
